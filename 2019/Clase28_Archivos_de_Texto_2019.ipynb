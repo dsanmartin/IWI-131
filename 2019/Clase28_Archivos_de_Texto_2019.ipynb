{
 "cells": [
  {
   "cell_type": "markdown",
   "metadata": {
    "slideshow": {
     "slide_type": "slide"
    }
   },
   "source": [
    "<img src=\"images/di.png\" alt=\"\" width=\"200px\" align=\"left\"/>\n",
    "<img src=\"images/utfsm.png\" alt=\"\" width=\"150px\" align=\"right\"/>\n",
    "\n",
    "<br/>\n",
    "<div align=\"center\">\n",
    "<h1>IWI131 Programación</h1><br/>\n",
    "<h2>Archivos de Texto</h2>\n",
    "<br/><br/>\n",
    "Departamento de Informática<br/>\n",
    "Universidad Técnica Federico Santa María\n",
    "</div>"
   ]
  },
  {
   "cell_type": "markdown",
   "metadata": {
    "slideshow": {
     "slide_type": "slide"
    }
   },
   "source": [
    "## Archivos de Texto\n",
    "\n",
    "Tipo de archivo informático que contiene únicamente texto formado por caracteres que son legibles por humanos, careciendo de cualquier tipo de formato tipográfico."
   ]
  },
  {
   "cell_type": "markdown",
   "metadata": {
    "slideshow": {
     "slide_type": "fragment"
    }
   },
   "source": [
    "Ejemplo de archivo: `quijote.txt`\n",
    "\n",
    "```\n",
    "En un lugar de la Mancha\n",
    "de cuyo nombre no quiero acordarme\n",
    "no ha mucho tiempo que vivia un hidalgo\n",
    "```"
   ]
  },
  {
   "cell_type": "markdown",
   "metadata": {
    "slideshow": {
     "slide_type": "slide"
    }
   },
   "source": [
    "## Protocolo de uso\n",
    "\n",
    "1. Abrir el archivo\n",
    "2. Recorrer el archivo\n",
    "3. Cerrar el archivo"
   ]
  },
  {
   "cell_type": "markdown",
   "metadata": {
    "collapsed": true,
    "slideshow": {
     "slide_type": "slide"
    }
   },
   "source": [
    "### Apertura de Archivo\n",
    "\n",
    "Un archivo puede ser abierto mediante la función `open`, que acepta como parámetros la dirección donde se encuentra el archivo y el modo de apertura. Los modos de apertura son:\n",
    "* *Lectura* `'r'`\n",
    "* *Escritura* `'w'`\n",
    "* *Escritura añadiendo al final del archivo* `'a'`"
   ]
  },
  {
   "cell_type": "code",
   "execution_count": 8,
   "metadata": {
    "slideshow": {
     "slide_type": "fragment"
    }
   },
   "outputs": [],
   "source": [
    "# Por omisión los archivos se abren en modo 'r'\n",
    "archivo = open('quijote.txt')"
   ]
  },
  {
   "cell_type": "markdown",
   "metadata": {
    "slideshow": {
     "slide_type": "slide"
    }
   },
   "source": [
    "### Recorrer el archivo\n",
    "\n",
    "Un **archivo** puede considerarse un tipo de dato **iterable**, es decir, podemos recorrerlo con  `for`."
   ]
  },
  {
   "cell_type": "markdown",
   "metadata": {
    "slideshow": {
     "slide_type": "fragment"
    }
   },
   "source": [
    "Al momento de iterar el archivo, se incluye la secuencia de escape. Por ejemplo `'En un lugar de la Mancha\\n'`. Si queremos \"limpiar\" la línea leída es necesario utilizar la función `strip()`, vista en procesamiento de texto."
   ]
  },
  {
   "cell_type": "code",
   "execution_count": 9,
   "metadata": {
    "slideshow": {
     "slide_type": "slide"
    }
   },
   "outputs": [
    {
     "name": "stdout",
     "output_type": "stream",
     "text": [
      "En un lugar de la Mancha\n",
      "de cuyo nombre no quiero acordarme\n",
      "no ha mucho tiempo que vivia un hidalgo\n"
     ]
    }
   ],
   "source": [
    "for linea in archivo:\n",
    "    # Operaciones sobre linea\n",
    "    linea = linea.strip()\n",
    "    print(linea)"
   ]
  },
  {
   "cell_type": "markdown",
   "metadata": {
    "slideshow": {
     "slide_type": "slide"
    }
   },
   "source": [
    "### Cierre de archivo\n",
    "\n",
    "El último paso es cerrar el archivo luego de leer la información. Para ello se utiliza el método `close()`."
   ]
  },
  {
   "cell_type": "code",
   "execution_count": 7,
   "metadata": {
    "slideshow": {
     "slide_type": "fragment"
    }
   },
   "outputs": [],
   "source": [
    "archivo.close()"
   ]
  },
  {
   "cell_type": "markdown",
   "metadata": {
    "slideshow": {
     "slide_type": "slide"
    }
   },
   "source": [
    "## Creación de archivos"
   ]
  },
  {
   "cell_type": "markdown",
   "metadata": {
    "slideshow": {
     "slide_type": "fragment"
    }
   },
   "source": [
    "### Apertura\n",
    "\n",
    "Para escribir un archivo, este debe abrirse en modo escritura usando la función `open` con el parámetro `'w'`."
   ]
  },
  {
   "cell_type": "code",
   "execution_count": 20,
   "metadata": {
    "slideshow": {
     "slide_type": "fragment"
    }
   },
   "outputs": [],
   "source": [
    "nuevo_archivo = open('prueba.txt', 'w')"
   ]
  },
  {
   "cell_type": "markdown",
   "metadata": {
    "slideshow": {
     "slide_type": "slide"
    }
   },
   "source": [
    "### Escritura\n",
    "\n",
    "Se utilizará el método `write`, que recibe como parámetro un **string** con el texto que se escribirá en el archivo."
   ]
  },
  {
   "cell_type": "code",
   "execution_count": 21,
   "metadata": {
    "slideshow": {
     "slide_type": "fragment"
    }
   },
   "outputs": [
    {
     "data": {
      "text/plain": [
       "12"
      ]
     },
     "execution_count": 21,
     "metadata": {},
     "output_type": "execute_result"
    }
   ],
   "source": [
    "nuevo_archivo.write('Informacion\\n')"
   ]
  },
  {
   "cell_type": "markdown",
   "metadata": {
    "slideshow": {
     "slide_type": "slide"
    }
   },
   "source": [
    "### Cierre\n",
    "\n",
    "Al igual que en el caso de lectura, luego de escribir la información se debe cerrar el archivo con `close()`."
   ]
  },
  {
   "cell_type": "code",
   "execution_count": 14,
   "metadata": {
    "slideshow": {
     "slide_type": "fragment"
    }
   },
   "outputs": [],
   "source": [
    "nuevo_archivo.close()"
   ]
  },
  {
   "cell_type": "markdown",
   "metadata": {
    "slideshow": {
     "slide_type": "slide"
    }
   },
   "source": [
    "## Agregar información a un archivo existente"
   ]
  },
  {
   "cell_type": "markdown",
   "metadata": {
    "slideshow": {
     "slide_type": "fragment"
    }
   },
   "source": [
    "### Apertura\n",
    "\n",
    "Para escribir un archivo, este debe abrirse en modo `'a'` usando la función `open`."
   ]
  },
  {
   "cell_type": "code",
   "execution_count": 23,
   "metadata": {
    "slideshow": {
     "slide_type": "fragment"
    }
   },
   "outputs": [],
   "source": [
    "archivo = open('prueba.txt', 'a')"
   ]
  },
  {
   "cell_type": "markdown",
   "metadata": {
    "slideshow": {
     "slide_type": "slide"
    }
   },
   "source": [
    "### Escritura\n",
    "\n",
    "Se utilizará el método `write`, que recibe como parámetro un **string** con el texto que se agregará en el archivo."
   ]
  },
  {
   "cell_type": "code",
   "execution_count": 24,
   "metadata": {
    "slideshow": {
     "slide_type": "fragment"
    }
   },
   "outputs": [
    {
     "data": {
      "text/plain": [
       "18"
      ]
     },
     "execution_count": 24,
     "metadata": {},
     "output_type": "execute_result"
    }
   ],
   "source": [
    "archivo.write(\"Nueva informacion\\n\")"
   ]
  },
  {
   "cell_type": "markdown",
   "metadata": {
    "slideshow": {
     "slide_type": "slide"
    }
   },
   "source": [
    "### Cierre\n",
    "\n",
    "Al igual que en el caso de lectura y escritura, luego de escribir la información se debe cerrar el archivo con `close()`."
   ]
  },
  {
   "cell_type": "code",
   "execution_count": 18,
   "metadata": {
    "slideshow": {
     "slide_type": "fragment"
    }
   },
   "outputs": [],
   "source": [
    "archivo.close()"
   ]
  },
  {
   "cell_type": "markdown",
   "metadata": {
    "slideshow": {
     "slide_type": "slide"
    }
   },
   "source": [
    "## Archivos con separador\n",
    "\n",
    "Considere un archivo que utiliza un caracter para separar la información. Por ejemplo:\n",
    "\n",
    "```\n",
    "Esteban:Gutierrez:49:18:32\n",
    "Luisa:Miranda:68:44:99\n",
    "Jean Paul:Munoz:48:38:81\n",
    "Gianfranco:Basso:54:54:50\n",
    "Romina:Smith:100:98:9\n",
    "```"
   ]
  },
  {
   "cell_type": "markdown",
   "metadata": {
    "slideshow": {
     "slide_type": "slide"
    }
   },
   "source": [
    "### Lectura de este tipo de archivos"
   ]
  },
  {
   "cell_type": "code",
   "execution_count": 27,
   "metadata": {
    "slideshow": {
     "slide_type": "fragment"
    }
   },
   "outputs": [
    {
     "name": "stdout",
     "output_type": "stream",
     "text": [
      "Esteban [49, 18, 32]\n",
      "Luisa [68, 44, 99]\n",
      "Jean Paul [48, 38, 81]\n",
      "Gianfranco [54, 54, 50]\n",
      "Romina [100, 98, 92]\n"
     ]
    }
   ],
   "source": [
    "archivo = open('alumnos.txt')\n",
    "for linea in archivo:\n",
    "    valores = linea.strip().split(':')\n",
    "    nombres = valores[0:2]\n",
    "    notas = []\n",
    "    for nota in valores[2:5]:\n",
    "        notas.append(int(nota))\n",
    "    print(nombres[0], notas)\n",
    "archivo.close()"
   ]
  },
  {
   "cell_type": "markdown",
   "metadata": {
    "collapsed": true,
    "slideshow": {
     "slide_type": "slide"
    }
   },
   "source": [
    "# Ejercicios"
   ]
  },
  {
   "cell_type": "markdown",
   "metadata": {
    "slideshow": {
     "slide_type": "slide"
    }
   },
   "source": [
    "1. Escriba un programa que abra el archivo `quijote.txt` y cuente:\n",
    "    * el número de letras,\n",
    "    * el número de palabras,\n",
    "    * el número de líneas."
   ]
  },
  {
   "cell_type": "markdown",
   "metadata": {
    "slideshow": {
     "slide_type": "slide"
    }
   },
   "source": [
    "2. A partir del archivo `alumnos.txt`, crear los siguientes archivos:\n",
    "\n",
    "`aprobados.txt.`\n",
    "```\n",
    "Luisa,Miranda,70\n",
    "Jean Paul,Munoz,56\n",
    "Romina,Smith,97\n",
    "```\n",
    "\n",
    "`reprobados.txt`\n",
    "```\n",
    "Esteban,Gutierrez,33\n",
    "Gianfranco,Basso,53\n",
    "```"
   ]
  }
 ],
 "metadata": {
  "anaconda-cloud": {},
  "celltoolbar": "Slideshow",
  "kernelspec": {
   "display_name": "Python 3",
   "language": "python",
   "name": "python3"
  },
  "language_info": {
   "codemirror_mode": {
    "name": "ipython",
    "version": 3
   },
   "file_extension": ".py",
   "mimetype": "text/x-python",
   "name": "python",
   "nbconvert_exporter": "python",
   "pygments_lexer": "ipython3",
   "version": "3.7.2"
  }
 },
 "nbformat": 4,
 "nbformat_minor": 1
}
