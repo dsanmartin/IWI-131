{
 "cells": [
  {
   "cell_type": "markdown",
   "metadata": {
    "slideshow": {
     "slide_type": "slide"
    }
   },
   "source": [
    "# IWI-131: Programación"
   ]
  },
  {
   "cell_type": "markdown",
   "metadata": {
    "slideshow": {
     "slide_type": "fragment"
    }
   },
   "source": [
    "## Trinket: variables, entradas, salidas y funciones"
   ]
  },
  {
   "cell_type": "markdown",
   "metadata": {
    "colab_type": "text",
    "id": "mHRDJobpZpfo",
    "slideshow": {
     "slide_type": "slide"
    }
   },
   "source": [
    "## Instrucciones"
   ]
  },
  {
   "cell_type": "markdown",
   "metadata": {
    "colab_type": "text",
    "id": "cFZZ7ueYZ1U0",
    "slideshow": {
     "slide_type": "fragment"
    }
   },
   "source": [
    "**Instrucciones:** son las ordenes básicas que deben ser ejecutadas. Generalmente una por una. Un algortimo se compone de muchas de estas instrucciones para realizar una tarea. Por ejemplo: caminar 5 pasos hacia adelante, sumar dos números, mostrar por pantalla un resultado, etc.\n",
    "\n",
    "Veremos un primer ejemplo usando Trinket: dibujar un cuadrado"
   ]
  },
  {
   "cell_type": "code",
   "execution_count": 1,
   "metadata": {
    "colab": {
     "base_uri": "https://localhost:8080/",
     "height": 521
    },
    "colab_type": "code",
    "executionInfo": {
     "elapsed": 615,
     "status": "ok",
     "timestamp": 1551111259126,
     "user": {
      "displayName": "Sergio Campos",
      "photoUrl": "",
      "userId": "12155360713523385064"
     },
     "user_tz": 180
    },
    "id": "GpuDJQ75gnHf",
    "outputId": "55e72acb-de02-4232-9793-a412656772d4",
    "scrolled": false,
    "slideshow": {
     "slide_type": "slide"
    }
   },
   "outputs": [
    {
     "data": {
      "text/html": [
       "\n",
       "        <iframe\n",
       "            width=\"100%\"\n",
       "            height=\"600px\"\n",
       "            src=\"https://trinket.io/embed/blocks/4b6c725cf7?frameborder=0&marginwidth=0&marginheight=0&allowfullscreen=True\"\n",
       "            frameborder=\"0\"\n",
       "            allowfullscreen\n",
       "        ></iframe>\n",
       "        "
      ],
      "text/plain": [
       "<IPython.lib.display.IFrame at 0x7fabdc4d49d0>"
      ]
     },
     "execution_count": 1,
     "metadata": {},
     "output_type": "execute_result"
    }
   ],
   "source": [
    "from IPython.display import IFrame\n",
    "IFrame('https://trinket.io/embed/blocks/4b6c725cf7', \n",
    "       '100%', '600px', frameborder=\"0\", marginwidth=\"0\", \n",
    "       marginheight=\"0\", allowfullscreen=True)"
   ]
  },
  {
   "cell_type": "markdown",
   "metadata": {
    "colab_type": "text",
    "id": "fUPD79aQGxtT",
    "slideshow": {
     "slide_type": "slide"
    }
   },
   "source": [
    "## Repeticiones"
   ]
  },
  {
   "cell_type": "markdown",
   "metadata": {
    "colab_type": "text",
    "id": "zTtm_WM2Jrgn",
    "slideshow": {
     "slide_type": "fragment"
    }
   },
   "source": [
    "Muy a menudo es necesario realizar tareas especificas varias veces. Se le puede dar al computador instruccion por instruccion, pero cuando es necesario hacerlo muchas veces esto no resulta practico.\n",
    "Para resolver este problema, es posible realizar ciclos (loops, en ingles) que de manera compacta se le pide realizar al computador una misma tarea varias veces."
   ]
  },
  {
   "cell_type": "code",
   "execution_count": 2,
   "metadata": {
    "colab": {
     "base_uri": "https://localhost:8080/",
     "height": 421
    },
    "colab_type": "code",
    "executionInfo": {
     "elapsed": 965,
     "status": "ok",
     "timestamp": 1551118258819,
     "user": {
      "displayName": "Sergio Campos",
      "photoUrl": "",
      "userId": "12155360713523385064"
     },
     "user_tz": 180
    },
    "id": "gWhuqx1VbLaF",
    "outputId": "ace9ddc9-e813-4043-e40f-8caa4fb1da41",
    "scrolled": false,
    "slideshow": {
     "slide_type": "slide"
    }
   },
   "outputs": [
    {
     "data": {
      "text/html": [
       "\n",
       "        <iframe\n",
       "            width=\"100%\"\n",
       "            height=\"600px\"\n",
       "            src=\"https://trinket.io/embed/blocks/b4bd364cac?frameborder=0&marginwidth=0&marginheight=0&allowfullscreen=true\"\n",
       "            frameborder=\"0\"\n",
       "            allowfullscreen\n",
       "        ></iframe>\n",
       "        "
      ],
      "text/plain": [
       "<IPython.lib.display.IFrame at 0x7fabdc4d4850>"
      ]
     },
     "execution_count": 2,
     "metadata": {},
     "output_type": "execute_result"
    }
   ],
   "source": [
    "from IPython.display import IFrame\n",
    "IFrame('https://trinket.io/embed/blocks/b4bd364cac', \n",
    "       '100%', '600px', frameborder=\"0\", marginwidth=\"0\", \n",
    "       marginheight=\"0\", allowfullscreen=\"true\")"
   ]
  },
  {
   "cell_type": "markdown",
   "metadata": {
    "colab_type": "text",
    "id": "PdXOpjMTBOTP",
    "slideshow": {
     "slide_type": "slide"
    }
   },
   "source": [
    "## Entradas y Salidas"
   ]
  },
  {
   "cell_type": "markdown",
   "metadata": {
    "colab_type": "text",
    "id": "N_ojijG-HY0a",
    "slideshow": {
     "slide_type": "fragment"
    }
   },
   "source": [
    "\n",
    "*   *Entradas* (input, en ingles) es la información que se entrega al algoritmo para que pueda realizar la tarea deseada.\n",
    "\n",
    "*   *Salidas* (output, en ingles) es la información que entrega el algortimo como resultado, parcial o final, de su ejecución.\n",
    "\n",
    "En esta sesión nos enfocaremos en **entradas**."
   ]
  },
  {
   "cell_type": "code",
   "execution_count": 3,
   "metadata": {
    "scrolled": false,
    "slideshow": {
     "slide_type": "slide"
    }
   },
   "outputs": [
    {
     "data": {
      "text/html": [
       "\n",
       "        <iframe\n",
       "            width=\"100%\"\n",
       "            height=\"300\"\n",
       "            src=\"https://trinket.io/embed/blocks/82c6526d93?frameborder=0&marginwidth=0&marginheight=0&allowfullscreen=true&hideGeneratedCode=true\"\n",
       "            frameborder=\"0\"\n",
       "            allowfullscreen\n",
       "        ></iframe>\n",
       "        "
      ],
      "text/plain": [
       "<IPython.lib.display.IFrame at 0x7fabdc50b250>"
      ]
     },
     "execution_count": 3,
     "metadata": {},
     "output_type": "execute_result"
    }
   ],
   "source": [
    "from IPython.display import IFrame\n",
    "IFrame('https://trinket.io/embed/blocks/82c6526d93', \n",
    "       '100%', '300', frameborder=\"0\", marginwidth=\"0\", \n",
    "       marginheight=\"0\", allowfullscreen=\"true\", hideGeneratedCode=\"true\")"
   ]
  },
  {
   "cell_type": "markdown",
   "metadata": {
    "colab_type": "text",
    "id": "R_0p3hdj7Mfm",
    "slideshow": {
     "slide_type": "slide"
    }
   },
   "source": [
    "## Variables"
   ]
  },
  {
   "cell_type": "markdown",
   "metadata": {
    "colab_type": "text",
    "id": "BwFv2O-d8bG6",
    "slideshow": {
     "slide_type": "fragment"
    }
   },
   "source": [
    "Las variables son espacios de almacenamiento, en donde guardaremos los datos con los que trabaja el algoritmo. \n",
    "Pueden cambiar su valor cuantas veces queramos mediante asignaciones.\n",
    "\n",
    "<img src=\"./images/variable.jpg\" alt=\"variable\" width=\"350px\" align=\"center\"/>"
   ]
  },
  {
   "cell_type": "markdown",
   "metadata": {
    "colab_type": "text",
    "id": "sM0hqzOdBowd",
    "slideshow": {
     "slide_type": "slide"
    }
   },
   "source": [
    "**Asignación de variables:** Para cambiar el valor almacenado en una variable utilizamos una operación de asignación, denotada por un igual o por una flecha a la izquierda.\n",
    "\n",
    "Las **entradas** las manejaremos generalmente en **variables**\n",
    "\n",
    "<img src=\"./images/asignacion_var.jpg\" alt=\"asignacion\" width=\"250px\" align=\"center\"/>"
   ]
  },
  {
   "cell_type": "code",
   "execution_count": 4,
   "metadata": {
    "slideshow": {
     "slide_type": "slide"
    }
   },
   "outputs": [
    {
     "data": {
      "text/html": [
       "\n",
       "        <iframe\n",
       "            width=\"100%\"\n",
       "            height=\"600px\"\n",
       "            src=\"https://trinket.io/embed/blocks/7ddfa415af?frameborder=0&marginwidth=0&marginheight=0&allowfullscreen=true&hideGeneratedCode=true\"\n",
       "            frameborder=\"0\"\n",
       "            allowfullscreen\n",
       "        ></iframe>\n",
       "        "
      ],
      "text/plain": [
       "<IPython.lib.display.IFrame at 0x7fabdc50b810>"
      ]
     },
     "execution_count": 4,
     "metadata": {},
     "output_type": "execute_result"
    }
   ],
   "source": [
    "from IPython.display import IFrame\n",
    "IFrame('https://trinket.io/embed/blocks/7ddfa415af', \n",
    "       '100%', '600px', frameborder=\"0\", marginwidth=\"0\", \n",
    "       marginheight=\"0\", allowfullscreen=\"true\", hideGeneratedCode=\"true\")"
   ]
  },
  {
   "cell_type": "markdown",
   "metadata": {
    "colab_type": "text",
    "id": "gUBrQKevHMpZ",
    "slideshow": {
     "slide_type": "slide"
    }
   },
   "source": [
    "# Funciones"
   ]
  },
  {
   "cell_type": "markdown",
   "metadata": {
    "colab_type": "text",
    "id": "yWiVY-_fegaF",
    "slideshow": {
     "slide_type": "fragment"
    }
   },
   "source": [
    "Una función es un grupo de 1 o más instrucciones agrupadas. La función generalmente tendra datos de entrada y datos de salida.\n",
    "\n",
    "Ahora veremos un ejemplo donde se entregará el números de lados y el largo de estos,  y permitirá dibujar una figura mediante una función."
   ]
  },
  {
   "cell_type": "code",
   "execution_count": 5,
   "metadata": {
    "colab": {
     "base_uri": "https://localhost:8080/",
     "height": 621
    },
    "colab_type": "code",
    "executionInfo": {
     "elapsed": 757,
     "status": "ok",
     "timestamp": 1551118416748,
     "user": {
      "displayName": "Sergio Campos",
      "photoUrl": "",
      "userId": "12155360713523385064"
     },
     "user_tz": 180
    },
    "id": "uDkp4b4Cenlb",
    "outputId": "f75f0668-0b73-4744-cf3b-6a6eb2c8f60a",
    "slideshow": {
     "slide_type": "slide"
    }
   },
   "outputs": [
    {
     "data": {
      "text/html": [
       "\n",
       "        <iframe\n",
       "            width=\"100%\"\n",
       "            height=\"400px\"\n",
       "            src=\"https://trinket.io/embed/blocks/ca4b2105d9?frameborder=0&marginwidth=0&marginheight=0&allowfullscreen=true&hideGeneratedCode=true\"\n",
       "            frameborder=\"0\"\n",
       "            allowfullscreen\n",
       "        ></iframe>\n",
       "        "
      ],
      "text/plain": [
       "<IPython.lib.display.IFrame at 0x7fabdc50e110>"
      ]
     },
     "execution_count": 5,
     "metadata": {},
     "output_type": "execute_result"
    }
   ],
   "source": [
    "from IPython.display import IFrame\n",
    "IFrame('https://trinket.io/embed/blocks/ca4b2105d9', \n",
    "       '100%', '400px', frameborder=\"0\", marginwidth=\"0\", \n",
    "       marginheight=\"0\", allowfullscreen=\"true\", hideGeneratedCode=\"true\")"
   ]
  },
  {
   "cell_type": "code",
   "execution_count": 6,
   "metadata": {
    "colab": {
     "base_uri": "https://localhost:8080/",
     "height": 621
    },
    "colab_type": "code",
    "executionInfo": {
     "elapsed": 757,
     "status": "ok",
     "timestamp": 1551118416748,
     "user": {
      "displayName": "Sergio Campos",
      "photoUrl": "",
      "userId": "12155360713523385064"
     },
     "user_tz": 180
    },
    "id": "uDkp4b4Cenlb",
    "outputId": "f75f0668-0b73-4744-cf3b-6a6eb2c8f60a",
    "slideshow": {
     "slide_type": "slide"
    }
   },
   "outputs": [
    {
     "data": {
      "text/html": [
       "\n",
       "        <iframe\n",
       "            width=\"100%\"\n",
       "            height=\"600\"\n",
       "            src=\"https://trinket.io/embed/blocks/7fe87ce1b6?frameborder=0&marginwidth=0&marginheight=0&allowfullscreen=true\"\n",
       "            frameborder=\"0\"\n",
       "            allowfullscreen\n",
       "        ></iframe>\n",
       "        "
      ],
      "text/plain": [
       "<IPython.lib.display.IFrame at 0x7fabdc50e950>"
      ]
     },
     "execution_count": 6,
     "metadata": {},
     "output_type": "execute_result"
    }
   ],
   "source": [
    "from IPython.display import IFrame\n",
    "IFrame('https://trinket.io/embed/blocks/7fe87ce1b6', \n",
    "       '100%', '600', frameborder=\"0\", marginwidth=\"0\", \n",
    "       marginheight=\"0\", allowfullscreen=\"true\")"
   ]
  },
  {
   "cell_type": "markdown",
   "metadata": {
    "colab_type": "text",
    "id": "K5kJ69JN3T1t",
    "slideshow": {
     "slide_type": "slide"
    }
   },
   "source": [
    "## Ejercicios:\n",
    "1.- Dibuje una estrella de 5 puntas donde se le debe entregar al comienzo: la ubicacion inicial y el largo del trazo."
   ]
  },
  {
   "cell_type": "code",
   "execution_count": 7,
   "metadata": {
    "colab": {
     "base_uri": "https://localhost:8080/",
     "height": 521
    },
    "colab_type": "code",
    "executionInfo": {
     "elapsed": 772,
     "status": "ok",
     "timestamp": 1551118328848,
     "user": {
      "displayName": "Sergio Campos",
      "photoUrl": "",
      "userId": "12155360713523385064"
     },
     "user_tz": 180
    },
    "id": "9V9oa1XQh0Uk",
    "outputId": "9b7f7bf9-c98d-47fc-a078-a9acff85105a",
    "scrolled": false,
    "slideshow": {
     "slide_type": "fragment"
    }
   },
   "outputs": [
    {
     "data": {
      "text/html": [
       "\n",
       "        <iframe\n",
       "            width=\"100%\"\n",
       "            height=\"600\"\n",
       "            src=\"https://trinket.io/embed/blocks/4a1fca75eb?frameborder=0&marginwidth=0&marginheight=0&allowfullscreen=true\"\n",
       "            frameborder=\"0\"\n",
       "            allowfullscreen\n",
       "        ></iframe>\n",
       "        "
      ],
      "text/plain": [
       "<IPython.lib.display.IFrame at 0x7fabdc5132d0>"
      ]
     },
     "execution_count": 7,
     "metadata": {},
     "output_type": "execute_result"
    }
   ],
   "source": [
    "from IPython.display import IFrame\n",
    "IFrame('https://trinket.io/embed/blocks/4a1fca75eb', \n",
    "       '100%', '600', frameborder=\"0\", marginwidth=\"0\", \n",
    "       marginheight=\"0\", allowfullscreen=\"true\")"
   ]
  },
  {
   "cell_type": "markdown",
   "metadata": {
    "colab_type": "text",
    "id": "8KRUM5MR3y4u",
    "slideshow": {
     "slide_type": "slide"
    }
   },
   "source": [
    "2.- Dibuje *N* estrellas de 5 puntas ubicadas en posiciones  elegidas aleatoriamente."
   ]
  },
  {
   "cell_type": "code",
   "execution_count": 8,
   "metadata": {
    "colab": {
     "base_uri": "https://localhost:8080/",
     "height": 521
    },
    "colab_type": "code",
    "executionInfo": {
     "elapsed": 765,
     "status": "ok",
     "timestamp": 1551118364944,
     "user": {
      "displayName": "Sergio Campos",
      "photoUrl": "",
      "userId": "12155360713523385064"
     },
     "user_tz": 180
    },
    "id": "Xqy08_i3iDIk",
    "outputId": "f2f23d87-c971-4c0a-beeb-ff1be54fd25a",
    "slideshow": {
     "slide_type": "fragment"
    }
   },
   "outputs": [
    {
     "data": {
      "text/html": [
       "\n",
       "        <iframe\n",
       "            width=\"100%\"\n",
       "            height=\"600\"\n",
       "            src=\"https://trinket.io/embed/blocks/1f982f9bbb?frameborder=0&marginwidth=0&marginheight=0&allowfullscreen=true\"\n",
       "            frameborder=\"0\"\n",
       "            allowfullscreen\n",
       "        ></iframe>\n",
       "        "
      ],
      "text/plain": [
       "<IPython.lib.display.IFrame at 0x7fabdc50e990>"
      ]
     },
     "execution_count": 8,
     "metadata": {},
     "output_type": "execute_result"
    }
   ],
   "source": [
    "from IPython.display import IFrame\n",
    "IFrame('https://trinket.io/embed/blocks/1f982f9bbb', \n",
    "       '100%', '600', frameborder=\"0\", marginwidth=\"0\", \n",
    "       marginheight=\"0\", allowfullscreen=\"true\")"
   ]
  }
 ],
 "metadata": {
  "celltoolbar": "Slideshow",
  "colab": {
   "collapsed_sections": [],
   "name": "Clase02_Uso_Trinket_2019.ipynb",
   "provenance": [],
   "version": "0.3.2"
  },
  "kernelspec": {
   "display_name": "Python 3",
   "language": "python",
   "name": "python3"
  },
  "language_info": {
   "codemirror_mode": {
    "name": "ipython",
    "version": 3
   },
   "file_extension": ".py",
   "mimetype": "text/x-python",
   "name": "python",
   "nbconvert_exporter": "python",
   "pygments_lexer": "ipython3",
   "version": "3.7.4"
  }
 },
 "nbformat": 4,
 "nbformat_minor": 1
}
