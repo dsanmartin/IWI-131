{
 "cells": [
  {
   "cell_type": "markdown",
   "metadata": {
    "slideshow": {
     "slide_type": "slide"
    }
   },
   "source": [
    "<img src=\"images/di.png\" alt=\"\" width=\"200px\" align=\"left\"/>\n",
    "<img src=\"images/utfsm.png\" alt=\"\" width=\"150px\" align=\"right\"/>\n",
    "\n",
    "<br/>\n",
    "<div align=\"center\">\n",
    "<h1>IWI131 Programación</h1><br/>\n",
    "<h2>Funciones</h2>\n",
    "<br/><br/>\n",
    "Departamento de Informática<br/>\n",
    "Universidad Técnica Federico Santa María\n",
    "</div>"
   ]
  },
  {
   "cell_type": "markdown",
   "metadata": {
    "slideshow": {
     "slide_type": "slide"
    }
   },
   "source": [
    "# Funciones"
   ]
  },
  {
   "cell_type": "markdown",
   "metadata": {
    "slideshow": {
     "slide_type": "fragment"
    }
   },
   "source": [
    "Se ha visto hasta el momento que existen funciones ya definidas que pueden ser utilizadas. Ejemplo de estas funciones son:\n",
    "* `abs()`\n",
    "* `print()`\n",
    "* `float()`\n",
    "* etc.\n",
    "\n"
   ]
  },
  {
   "cell_type": "markdown",
   "metadata": {
    "slideshow": {
     "slide_type": "fragment"
    }
   },
   "source": [
    "pero hay ocasiones donde necesitamos crear funciones para realizar ciertas tareas específicas. Para realizar esto, se debe tener presente 2 aspectos:\n",
    "* la definición de la función.\n",
    "* el adecuado llamado de la función previamente definida."
   ]
  },
  {
   "cell_type": "markdown",
   "metadata": {
    "slideshow": {
     "slide_type": "slide"
    }
   },
   "source": [
    "## Definición de una función"
   ]
  },
  {
   "cell_type": "markdown",
   "metadata": {
    "slideshow": {
     "slide_type": "fragment"
    }
   },
   "source": [
    "Para definir una función se debe utilizar la palabra reservada **def**, seguida de la siguiente sintaxis:"
   ]
  },
  {
   "cell_type": "markdown",
   "metadata": {
    "slideshow": {
     "slide_type": "fragment"
    }
   },
   "source": [
    "\n",
    "**def** nombre_funcion**(parametro1, parametro2, ...):**"
   ]
  },
  {
   "cell_type": "markdown",
   "metadata": {
    "slideshow": {
     "slide_type": "fragment"
    }
   },
   "source": [
    "toda funcion al definirla, luego de escribir la palabra **def** debe ir con un nombre. Este nombre cumple las mismas restricciones de nombres de variables.\n",
    "\n",
    "Además, se deben incluir los parámetros de entradas entre parentesis redondos **( )**. Estos parámetros deben ir separados por comas y pueden ser una cantidad variable. Se termina al final con un dos puntos **:**."
   ]
  },
  {
   "cell_type": "markdown",
   "metadata": {
    "slideshow": {
     "slide_type": "slide"
    }
   },
   "source": [
    "## Definición de una función"
   ]
  },
  {
   "cell_type": "markdown",
   "metadata": {
    "slideshow": {
     "slide_type": "fragment"
    }
   },
   "source": [
    "Después de escribir la primera línea de código de la función, se deben escribir todas las instrucciones. Estas instrucciones deben estar indentadas de tal manera que todas esten dentro de la función"
   ]
  },
  {
   "cell_type": "markdown",
   "metadata": {
    "slideshow": {
     "slide_type": "fragment"
    }
   },
   "source": [
    "En la mayoria de los casos, las funciones tienen una instrucción especial representada por la palabra reservada **return**. Esta instruccion especial nos indica el momento en que nos salimos de la función, retornando algun valor de interes. A continuación un pequeño ejemplo:"
   ]
  },
  {
   "cell_type": "code",
   "execution_count": 40,
   "metadata": {
    "slideshow": {
     "slide_type": "fragment"
    }
   },
   "outputs": [],
   "source": [
    "def determinante(a,b,c):\n",
    "    resultado = b**2-4*a*c\n",
    "    return resultado"
   ]
  },
  {
   "cell_type": "markdown",
   "metadata": {
    "slideshow": {
     "slide_type": "fragment"
    }
   },
   "source": [
    "Con esto, ya hemos desarrollado nuestra primera función, pero ahora nos hace falta poder utilizarla."
   ]
  },
  {
   "cell_type": "markdown",
   "metadata": {
    "slideshow": {
     "slide_type": "slide"
    }
   },
   "source": [
    "## Llamado de la función"
   ]
  },
  {
   "cell_type": "markdown",
   "metadata": {
    "slideshow": {
     "slide_type": "fragment"
    }
   },
   "source": [
    "Una vez la función es creada, como en el ejemplo anterior, podemos utilizarla. A este proceso comunmente se le llama: **llamar la función**."
   ]
  },
  {
   "cell_type": "markdown",
   "metadata": {
    "slideshow": {
     "slide_type": "fragment"
    }
   },
   "source": [
    "Para llamar a una función, se debe saber el nombre de esta y los parámetros que recibe. Es importante respetar el número de parámetros. Siguiendo el ejemplo anterior:"
   ]
  },
  {
   "cell_type": "code",
   "execution_count": 14,
   "metadata": {
    "slideshow": {
     "slide_type": "fragment"
    }
   },
   "outputs": [],
   "source": [
    "var_resultado = determinante(1,4,2)"
   ]
  },
  {
   "cell_type": "markdown",
   "metadata": {
    "slideshow": {
     "slide_type": "fragment"
    }
   },
   "source": [
    "Con lo anterior, guardamos el dato que calcula la función (variable `resultado`) en la variable `var_resultado`. Veamos que nos entrega:"
   ]
  },
  {
   "cell_type": "code",
   "execution_count": 15,
   "metadata": {
    "slideshow": {
     "slide_type": "fragment"
    }
   },
   "outputs": [
    {
     "data": {
      "text/plain": [
       "8"
      ]
     },
     "execution_count": 15,
     "metadata": {},
     "output_type": "execute_result"
    }
   ],
   "source": [
    "var_resultado"
   ]
  },
  {
   "cell_type": "markdown",
   "metadata": {
    "slideshow": {
     "slide_type": "fragment"
    }
   },
   "source": [
    "Recuerde utilizar una variable para guardar lo que entrega la función. "
   ]
  },
  {
   "cell_type": "markdown",
   "metadata": {
    "slideshow": {
     "slide_type": "slide"
    }
   },
   "source": [
    "Si quisieramos hacer un programa que nos pudiera resolver las ecuaciones de segundo grado, nuestro código podría ser:"
   ]
  },
  {
   "cell_type": "code",
   "execution_count": 41,
   "metadata": {
    "slideshow": {
     "slide_type": "fragment"
    }
   },
   "outputs": [
    {
     "name": "stdout",
     "output_type": "stream",
     "text": [
      "Ingrese el valor a:2\n",
      "Ingrese el valor b:3\n",
      "Ingrese el valor c:4\n",
      "La ecuacion no tiene solucion real\n"
     ]
    }
   ],
   "source": [
    "def determinante(a,b,c):\n",
    "    resultado = b**2-4*a*c\n",
    "    return resultado\n",
    "\n",
    "p1 = float(input('Ingrese el valor a:'))\n",
    "p2 = float(input('Ingrese el valor b:'))\n",
    "p3 = float(input('Ingrese el valor c:'))\n",
    "\n",
    "var_resultado = determinante(p1,p2,p3)\n",
    "\n",
    "if var_resultado < 0:\n",
    "    print('La ecuacion no tiene solucion real')\n",
    "elif var_resultado == 0:\n",
    "    sol = -p2 / (2*p1) \n",
    "    print('La solucion es unica y es sol=', sol)\n",
    "else:\n",
    "    sol = (-p2 - (var_resultado**0.5))/(2*p1)\n",
    "    sol2 = (-p2 + (var_resultado**0.5))/(2*p1)\n",
    "    print('Las soluciones son:')\n",
    "    print('sol=', sol)\n",
    "    print('sol2=', sol2)"
   ]
  },
  {
   "cell_type": "markdown",
   "metadata": {
    "slideshow": {
     "slide_type": "slide"
    }
   },
   "source": [
    "## Diferencia entre `print()` y `return`"
   ]
  },
  {
   "cell_type": "markdown",
   "metadata": {
    "slideshow": {
     "slide_type": "fragment"
    }
   },
   "source": [
    "`print()` y `return` pueden tener un comportamiento muy parecido, pero no se les debe confundir.\n",
    "\n",
    "* `return` solo debe ir dentro de una función.\n",
    "* `print()` puede ir tanto en una función (aunque no es tan común) como en el código de un programa principal (el main).\n",
    "* `return` se comporta muy parecido al `print()` cuando a la función se le llama de la consola (shell).\n",
    "* Lo anterior cambia cuando el codigo se corre desde el archivo.\n",
    "\n",
    "Retomemos el ejemplo de la función `determinante(a,b,c)`:"
   ]
  },
  {
   "cell_type": "markdown",
   "metadata": {
    "slideshow": {
     "slide_type": "slide"
    }
   },
   "source": [
    "Recordemos la función, la cual estará guardada en un archivo llamado `prueba.py`:"
   ]
  },
  {
   "cell_type": "code",
   "execution_count": 24,
   "metadata": {
    "slideshow": {
     "slide_type": "fragment"
    }
   },
   "outputs": [],
   "source": [
    "def determinante(a,b,c):\n",
    "    resultado = b**2-4*a*c\n",
    "    return resultado"
   ]
  },
  {
   "cell_type": "markdown",
   "metadata": {
    "slideshow": {
     "slide_type": "fragment"
    }
   },
   "source": [
    "Al correr el archivo `prueba.py` no nos mostrará ningun resultado por pantalla, ya que el `return` no se comporta como un `print()` cuando se ejecuta desde un archivo."
   ]
  },
  {
   "cell_type": "markdown",
   "metadata": {
    "slideshow": {
     "slide_type": "fragment"
    }
   },
   "source": [
    "Para obtener resultado por pantalla, debo llamar la función desde la consola de esta manera (como se hizo antes):"
   ]
  },
  {
   "cell_type": "code",
   "execution_count": 25,
   "metadata": {
    "slideshow": {
     "slide_type": "fragment"
    }
   },
   "outputs": [
    {
     "data": {
      "text/plain": [
       "-12"
      ]
     },
     "execution_count": 25,
     "metadata": {},
     "output_type": "execute_result"
    }
   ],
   "source": [
    "determinante(1,2,4)"
   ]
  },
  {
   "cell_type": "markdown",
   "metadata": {
    "slideshow": {
     "slide_type": "fragment"
    }
   },
   "source": [
    "Debemos ejecutar la función desde la consola para que nos entregue el resultado. Y al llamarla, debemos entregarle los valores de los parámetros. NO OLVIDAR!!"
   ]
  },
  {
   "cell_type": "markdown",
   "metadata": {
    "slideshow": {
     "slide_type": "slide"
    }
   },
   "source": [
    "Si queremos que al ejecutar el archivo `prueba.py` muestre inmediatamente el resultado de la función, debemos llamar a la función incluyendo un `print()`. \n",
    "\n",
    "Nuestro archivo `prueba.py` entonces quedaria como:"
   ]
  },
  {
   "cell_type": "code",
   "execution_count": 26,
   "metadata": {
    "slideshow": {
     "slide_type": "fragment"
    }
   },
   "outputs": [
    {
     "name": "stdout",
     "output_type": "stream",
     "text": [
      "-12\n"
     ]
    }
   ],
   "source": [
    "def determinante(a,b,c):\n",
    "    resultado = b**2-4*a*c\n",
    "    return resultado\n",
    "\n",
    "print(determinante(1,2,4))"
   ]
  },
  {
   "cell_type": "markdown",
   "metadata": {
    "slideshow": {
     "slide_type": "fragment"
    }
   },
   "source": [
    "Lo que hace python es cargar la función en memoria y luego mostrar por pantalla (gracias al `print()`) el resultado de llamarla."
   ]
  },
  {
   "cell_type": "markdown",
   "metadata": {
    "slideshow": {
     "slide_type": "slide"
    }
   },
   "source": [
    "## Ejercicios"
   ]
  },
  {
   "cell_type": "markdown",
   "metadata": {
    "slideshow": {
     "slide_type": "slide"
    }
   },
   "source": [
    "Escriba la función `promedio(n1, n2, n3)` que reciba las notas de los 3 certámenes de la asignatura y retorne el valor del promedio."
   ]
  },
  {
   "cell_type": "code",
   "execution_count": 28,
   "metadata": {
    "slideshow": {
     "slide_type": "fragment"
    }
   },
   "outputs": [],
   "source": [
    "def promedio(n1, n2, n3):\n",
    "    suma = p1 + p2 + p3\n",
    "    prom = suma/3\n",
    "    return prom"
   ]
  },
  {
   "cell_type": "markdown",
   "metadata": {
    "slideshow": {
     "slide_type": "slide"
    }
   },
   "source": [
    "El riesgo  de que una persona  sufra enfermedades coronarias depende de su edad y su índice de masa corporal.\n",
    "\n",
    "El Indice de masa corporal (IMC)  es el cociente entre el peso del individuo  en kilos y el cuadrado de su estatura en metros.\n",
    "\n",
    "Escriba  una función que reciba como parámetros la estatura, el peso y la edad de la persona , y le entregue su condición de riesgo.\n",
    "\n",
    "<table style=\"width:50%\">\n",
    "  <tr>\n",
    "    <th></th>\n",
    "    <th>Edad < 45</th> \n",
    "    <th>Edad >= 45 </th>\n",
    "  </tr>\n",
    "  <tr>\n",
    "    <th>IMC < 22.0</th>\n",
    "    <td>Bajo</td>\n",
    "    <td>Medio</td>\n",
    "  </tr>\n",
    "  <tr>\n",
    "    <th>IMC >= 22.0</th>\n",
    "    <td>Medio</td>\n",
    "    <td>Alto</td>\n",
    "  </tr>\n",
    "</table>"
   ]
  },
  {
   "cell_type": "code",
   "execution_count": 31,
   "metadata": {
    "slideshow": {
     "slide_type": "fragment"
    }
   },
   "outputs": [],
   "source": [
    "def IMC(est, peso, edad):\n",
    "    indice = peso/(est**2)\n",
    "    if edad < 45:\n",
    "        if indice < 22.0:\n",
    "            condicion = 'bajo'\n",
    "        else:\n",
    "            condicion = 'medio'\n",
    "    else:\n",
    "        if indice < 22.0:\n",
    "            condicion = 'medio'\n",
    "        else:\n",
    "            condicion = 'alto'\n",
    "    return condicion"
   ]
  },
  {
   "cell_type": "markdown",
   "metadata": {
    "slideshow": {
     "slide_type": "slide"
    }
   },
   "source": [
    "Un viajero desea saber cuánto tiempo tomó un viaje que realizó. Él tiene la duración en minutos de cada uno de los tramos del viaje.\n",
    "\n",
    "Desarrolle un programa, **que contenga al menos una función**, que permita ingresar los tiempos de viaje de los tramos y entregue como resultado el tiempo total de viaje en formato: `horas` horas con `minutos` minutos\n",
    "\n",
    "El programa deja de pedir tiempos de viaje cuando se ingresa un **0**.\n",
    "\n",
    "**Ejemplo:**\n",
    "* Duración del tramo: **15**\n",
    "* Duración del tramo: **30**\n",
    "* Duración del tramo: **87**\n",
    "* Duración del tramo: **0**\n",
    "* Tiempo total de viaje : 2 horas con 12 minutos"
   ]
  },
  {
   "cell_type": "code",
   "execution_count": 39,
   "metadata": {
    "slideshow": {
     "slide_type": "slide"
    }
   },
   "outputs": [
    {
     "name": "stdout",
     "output_type": "stream",
     "text": [
      "Duracion del tramo: 0\n",
      "Tiempo total de viaje: 0 horas con 0 minutos\n"
     ]
    }
   ],
   "source": [
    "def transformacion(total_min):\n",
    "    horas = total_min/60\n",
    "    return int(horas)\n",
    "\n",
    "def transformacion2(total_min):\n",
    "    minutos = total_min%60\n",
    "    return minutos\n",
    "\n",
    "flag = True\n",
    "total_min = 0\n",
    "while flag:\n",
    "    minutos = int(input('Duracion del tramo: '))\n",
    "    if minutos == 0:\n",
    "        flag = False\n",
    "    else:\n",
    "        total_min = total_min + minutos\n",
    "\n",
    "horas = transformacion(total_min)\n",
    "minutos = transformacion2(total_min)\n",
    "print('Tiempo total de viaje:', horas, 'horas con', minutos, 'minutos')"
   ]
  },
  {
   "cell_type": "code",
   "execution_count": null,
   "metadata": {},
   "outputs": [],
   "source": []
  }
 ],
 "metadata": {
  "celltoolbar": "Slideshow",
  "kernelspec": {
   "display_name": "Python 3",
   "language": "python",
   "name": "python3"
  },
  "language_info": {
   "codemirror_mode": {
    "name": "ipython",
    "version": 3
   },
   "file_extension": ".py",
   "mimetype": "text/x-python",
   "name": "python",
   "nbconvert_exporter": "python",
   "pygments_lexer": "ipython3",
   "version": "3.6.8"
  }
 },
 "nbformat": 4,
 "nbformat_minor": 2
}
