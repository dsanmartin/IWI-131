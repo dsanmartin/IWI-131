{
 "cells": [
  {
   "cell_type": "markdown",
   "metadata": {
    "slideshow": {
     "slide_type": "slide"
    }
   },
   "source": [
    "<img src=\"images/di.png\" alt=\"\" width=\"200px\" align=\"left\"/>\n",
    "<img src=\"images/utfsm.png\" alt=\"\" width=\"150px\" align=\"right\"/>\n",
    "\n",
    "<br/>\n",
    "<div align=\"center\">\n",
    "<h1>IWI131 Programación</h1><br/>\n",
    "<h2>Resolución de Problemas con Listas</h2>\n",
    "<br/><br/>\n",
    "Departamento de Informática<br/>\n",
    "Universidad Técnica Federico Santa María\n",
    "</div>"
   ]
  },
  {
   "cell_type": "markdown",
   "metadata": {
    "slideshow": {
     "slide_type": "slide"
    }
   },
   "source": [
    "### Copiado de listas\n",
    "Es necesario tener precaución cuando se intenta copiar una lista."
   ]
  },
  {
   "cell_type": "code",
   "execution_count": null,
   "metadata": {
    "slideshow": {
     "slide_type": "fragment"
    }
   },
   "outputs": [],
   "source": [
    "a = list(\"514\")\n",
    "b = a\n",
    "b[0] = 1000\n",
    "print(\"a=\",a)\n",
    "print(\"b=\",b)"
   ]
  },
  {
   "cell_type": "markdown",
   "metadata": {
    "slideshow": {
     "slide_type": "fragment"
    }
   },
   "source": [
    "¿Cómo solucionar el problema anterior?"
   ]
  },
  {
   "cell_type": "code",
   "execution_count": null,
   "metadata": {
    "slideshow": {
     "slide_type": "fragment"
    }
   },
   "outputs": [],
   "source": [
    "a = list(\"514\")\n",
    "b = list(a)\n",
    "b[0] = 1000\n",
    "print(\"a=\",a)\n",
    "print(\"b=\",b)"
   ]
  },
  {
   "cell_type": "markdown",
   "metadata": {
    "slideshow": {
     "slide_type": "slide"
    }
   },
   "source": [
    "### Copiado de listas\n",
    "Esto también afecta a las funciones."
   ]
  },
  {
   "cell_type": "code",
   "execution_count": null,
   "metadata": {
    "slideshow": {
     "slide_type": "fragment"
    }
   },
   "outputs": [],
   "source": [
    "def funcion_malvada(lista):\n",
    "    lista.append(10)\n",
    "    return sum(lista)"
   ]
  },
  {
   "cell_type": "code",
   "execution_count": null,
   "metadata": {
    "slideshow": {
     "slide_type": "fragment"
    }
   },
   "outputs": [],
   "source": [
    "L=[1,2,3,4]\n",
    "print(L)\n",
    "print(funcion_malvada(L))\n",
    "print(L)"
   ]
  },
  {
   "cell_type": "markdown",
   "metadata": {
    "slideshow": {
     "slide_type": "slide"
    }
   },
   "source": [
    "¿Cómo solucionar el problema anterior?"
   ]
  },
  {
   "cell_type": "code",
   "execution_count": null,
   "metadata": {
    "slideshow": {
     "slide_type": "fragment"
    }
   },
   "outputs": [],
   "source": [
    "L=[1,2,3,4]\n",
    "print(L)\n",
    "print(funcion_malvada(list(L)))\n",
    "print(L)"
   ]
  },
  {
   "cell_type": "markdown",
   "metadata": {
    "slideshow": {
     "slide_type": "fragment"
    }
   },
   "source": [
    "La función `list(L)` crea una copia de una la lista `L`, así no se modifica la original."
   ]
  },
  {
   "cell_type": "markdown",
   "metadata": {
    "slideshow": {
     "slide_type": "slide"
    }
   },
   "source": [
    "### Uso de funciones aleatorias para Listas\n",
    "La librería `random` incluye funciones para selección aleatoria desde listas. Echemos un vistazo a la función `choice`."
   ]
  },
  {
   "cell_type": "markdown",
   "metadata": {
    "slideshow": {
     "slide_type": "fragment"
    }
   },
   "source": [
    "El Loto es un juego de azar en donde se seleccionan aleatoriamente 6 números, sin repetirse, de una tombola con valores entre el 1 y el 41. Desarrolle un programa que simule un sorteo."
   ]
  },
  {
   "cell_type": "markdown",
   "metadata": {
    "slideshow": {
     "slide_type": "slide"
    }
   },
   "source": [
    "### Sin Listas"
   ]
  },
  {
   "cell_type": "code",
   "execution_count": 3,
   "metadata": {
    "slideshow": {
     "slide_type": "fragment"
    }
   },
   "outputs": [
    {
     "name": "stdout",
     "output_type": "stream",
     "text": [
      "Los numeros sorteados son: 9 14 23 40 18 22\n"
     ]
    }
   ],
   "source": [
    "from random import randint\n",
    "\n",
    "n1=randint(1,41)\n",
    "\n",
    "n2=randint(1,41)\n",
    "while n2==n1:\n",
    "    n2=randint(1,41)\n",
    "    \n",
    "n3=randint(1,41)\n",
    "while n3==n1 or n3==n2:\n",
    "    n3=randint(1,41)\n",
    "\n",
    "n4=randint(1,41)\n",
    "while n4==n1 or n4==n2 or n4==n3:\n",
    "    n4=randint(1,41)\n",
    "\n",
    "n5=randint(1,41)\n",
    "while n5==n1 or n5==n2 or n5==n3 or n5==n4:\n",
    "    n5=randint(1,41)\n",
    "\n",
    "n6=randint(1,41)\n",
    "while n6==n1 or n6==n2 or n6==n3 or n6==n4 or n6==n5:\n",
    "    n6=randint(1,41)\n",
    "    \n",
    "print(\"Los numeros sorteados son:\",n1,n2,n3,n4,n5,n6)"
   ]
  },
  {
   "cell_type": "markdown",
   "metadata": {
    "slideshow": {
     "slide_type": "fragment"
    }
   },
   "source": [
    "### Con Listas"
   ]
  },
  {
   "cell_type": "code",
   "execution_count": null,
   "metadata": {
    "slideshow": {
     "slide_type": "fragment"
    }
   },
   "outputs": [],
   "source": [
    "from random import choice\n",
    "\n",
    "sorteo=[]\n",
    "tombola=list(range(1,41))\n",
    "\n",
    "while len(sorteo)<6:\n",
    "    x=choice(tombola)\n",
    "    sorteo.append(x)\n",
    "    tombola.remove(x)\n",
    "\n",
    "print(\"Los numeros sorteados son:\", sorteo)"
   ]
  }
 ],
 "metadata": {
  "anaconda-cloud": {},
  "celltoolbar": "Slideshow",
  "kernelspec": {
   "display_name": "Python 3",
   "language": "python",
   "name": "python3"
  },
  "language_info": {
   "codemirror_mode": {
    "name": "ipython",
    "version": 3
   },
   "file_extension": ".py",
   "mimetype": "text/x-python",
   "name": "python",
   "nbconvert_exporter": "python",
   "pygments_lexer": "ipython3",
   "version": "3.7.3"
  }
 },
 "nbformat": 4,
 "nbformat_minor": 1
}
