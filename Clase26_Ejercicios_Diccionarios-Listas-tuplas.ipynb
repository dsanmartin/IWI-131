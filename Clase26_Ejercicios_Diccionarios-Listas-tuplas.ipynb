{
 "cells": [
  {
   "cell_type": "markdown",
   "metadata": {
    "slideshow": {
     "slide_type": "slide"
    }
   },
   "source": [
    "<img src=\"images/di.png\" alt=\"\" width=\"200px\" align=\"left\"/>\n",
    "<img src=\"images/utfsm.png\" alt=\"\" width=\"150px\" align=\"right\"/>\n",
    "\n",
    "<br/>\n",
    "<div align=\"center\">\n",
    "<h1>IWI131 Programación</h1><br/>\n",
    "<h2>Ejercicios de estructuras de datos: Diccionarios, Listas y Tuplas</h2>\n",
    "<br/><br/>\n",
    "Departamento de Informática<br/>\n",
    "Universidad Técnica Federico Santa María\n",
    "</div>"
   ]
  },
  {
   "cell_type": "markdown",
   "metadata": {
    "slideshow": {
     "slide_type": "slide"
    }
   },
   "source": [
    "# Métodos utiles para recorrer diccionarios\n",
    "La forma tradicional de recorrer un diccionario `d` es como se explicó en la presentación anterior. Recordemos el ejemplo:  "
   ]
  },
  {
   "cell_type": "code",
   "execution_count": 1,
   "metadata": {
    "slideshow": {
     "slide_type": "fragment"
    }
   },
   "outputs": [
    {
     "name": "stdout",
     "output_type": "stream",
     "text": [
      "pa = Chile\n",
      "pa = Peru\n",
      "pa = Ecuador\n"
     ]
    }
   ],
   "source": [
    "capitales = {'Chile': 'Santiago', 'Peru': 'Lima', 'Ecuador': 'Quito'}\n",
    "for pa in capitales:\n",
    "    print(\"pa =\",pa)"
   ]
  },
  {
   "cell_type": "markdown",
   "metadata": {
    "slideshow": {
     "slide_type": "fragment"
    }
   },
   "source": [
    "Acá, la variable `pa` toma el valor de cada llave existente en el diccionario `d`. Por lo tanto, aquí recorremos el diciconario usando las llaves.\n",
    "\n",
    "Pero tambien es posible recorrer un diccionario utilizando solo los valores, y ambas al mismo tiempo, es decir: llave y valor."
   ]
  },
  {
   "cell_type": "markdown",
   "metadata": {
    "slideshow": {
     "slide_type": "slide"
    }
   },
   "source": [
    "# Recorriendo un diccionario utilizando los valores de las llaves"
   ]
  },
  {
   "cell_type": "markdown",
   "metadata": {
    "slideshow": {
     "slide_type": "fragment"
    }
   },
   "source": [
    "Para recorrer en un `for` un diccionario pero rescatando los valores en vez de las llaves se usa el método: **.values()**\n",
    "\n",
    "Veamos un ejemplo:"
   ]
  },
  {
   "cell_type": "code",
   "execution_count": 2,
   "metadata": {
    "slideshow": {
     "slide_type": "fragment"
    }
   },
   "outputs": [
    {
     "name": "stdout",
     "output_type": "stream",
     "text": [
      "El valor es Santiago\n",
      "El valor es Lima\n",
      "El valor es Quito\n"
     ]
    }
   ],
   "source": [
    "capitales = {'Chile': 'Santiago', 'Peru': 'Lima', 'Ecuador': 'Quito'}\n",
    "for valor in capitales.values():\n",
    "    print(\"El valor es\",valor)"
   ]
  },
  {
   "cell_type": "markdown",
   "metadata": {
    "slideshow": {
     "slide_type": "slide"
    }
   },
   "source": [
    "# Recorriendo un diccionario utilizando llave y valor al mismo tiempo"
   ]
  },
  {
   "cell_type": "markdown",
   "metadata": {
    "slideshow": {
     "slide_type": "fragment"
    }
   },
   "source": [
    "Para recorrer en un `for` un diccionario pero esta vez rescatando tanto las llaves como los valores se usa el método: **.items()**\n",
    "\n",
    "\n",
    "Veamos un ejemplo:"
   ]
  },
  {
   "cell_type": "code",
   "execution_count": 3,
   "metadata": {
    "slideshow": {
     "slide_type": "fragment"
    }
   },
   "outputs": [
    {
     "name": "stdout",
     "output_type": "stream",
     "text": [
      "La llave es: Chile y el valor es Santiago\n",
      "La llave es: Peru y el valor es Lima\n",
      "La llave es: Ecuador y el valor es Quito\n"
     ]
    }
   ],
   "source": [
    "capitales = {'Chile': 'Santiago', 'Peru': 'Lima', 'Ecuador': 'Quito'}\n",
    "for llave, valor in capitales.items():\n",
    "    print(\"La llave es:\", llave, \"y el valor es\",valor)"
   ]
  },
  {
   "cell_type": "markdown",
   "metadata": {
    "slideshow": {
     "slide_type": "slide"
    }
   },
   "source": [
    "# Ejercicio 1\n",
    "Un concurso consta de `n` equipos, entre los cuales está el celeste, naranja, rojo, etc. y siempre de\n",
    "tres personas cada uno. El diccionario `equipos` tiene como llave el nombre del equipo, y como\n",
    "valor una lista con los participantes del equipo:"
   ]
  },
  {
   "cell_type": "code",
   "execution_count": 4,
   "metadata": {
    "slideshow": {
     "slide_type": "fragment"
    }
   },
   "outputs": [],
   "source": [
    "equipos={'naranja':['Juan','Paula','Carola'],\n",
    "         'celeste':['Carlos','Marta','Sergio'],\n",
    "         'rojo':['Maria', 'Jorge','Santiago']\n",
    "        }"
   ]
  },
  {
   "cell_type": "markdown",
   "metadata": {
    "slideshow": {
     "slide_type": "fragment"
    }
   },
   "source": [
    "Durante la primera etapa del concurso, los equipos compiten en distintos juegos que tienen como\n",
    "objetivo la suma de puntaje para pasar a la segunda, y final, etapa del concurso.\n",
    "\n",
    "En el diccionario `ganadores` está el nombre del juego, de la primera etapa, como llave, y como\n",
    "valor una tupla con el nombre del ganador y el puntaje asignado:"
   ]
  },
  {
   "cell_type": "code",
   "execution_count": 5,
   "metadata": {
    "slideshow": {
     "slide_type": "slide"
    }
   },
   "outputs": [],
   "source": [
    "ganadores={'letra a letra':('Carola',15),\n",
    "           'el ahorcado'  :('Paula',30),\n",
    "           'la pista'     :('Marta',10),\n",
    "           'memoria'      :('Sergio',35),\n",
    "           'que es que'   :('Sergio',20),\n",
    "           'la pista musical':('Maria',10),\n",
    "           'palabras cruzadas':('Santiago',22)\n",
    "          }"
   ]
  },
  {
   "cell_type": "markdown",
   "metadata": {
    "slideshow": {
     "slide_type": "-"
    }
   },
   "source": [
    "Realice la función `pasa_final(participante)` que recibe como parámetro un participante y determine si el equipo de ese participante pasará a la etapa final, considerando que solo los 2 equipos con mayor puntaje pasan a la etapa final. A continuación, se muestra ejemplos de ejecución:"
   ]
  },
  {
   "cell_type": "raw",
   "metadata": {
    "slideshow": {
     "slide_type": "fragment"
    }
   },
   "source": [
    ">> pasa_final('Jorge')\n",
    "False\n",
    ">> pasa_final('Juan')\n",
    "True"
   ]
  },
  {
   "cell_type": "markdown",
   "metadata": {
    "slideshow": {
     "slide_type": "-"
    }
   },
   "source": [
    "**Nota:** considere que tanto los juegos de la primera etapa y los equipos pueden ser mucho más que los mostrados en el ejemplo.\n",
    "\n",
    "**Nota 2:** considere que los nombres de los participantes nunca se repiten."
   ]
  },
  {
   "cell_type": "markdown",
   "metadata": {
    "slideshow": {
     "slide_type": "slide"
    }
   },
   "source": [
    "# Ejemplo solución ejercicio 1"
   ]
  },
  {
   "cell_type": "code",
   "execution_count": null,
   "metadata": {
    "slideshow": {
     "slide_type": "fragment"
    }
   },
   "outputs": [],
   "source": [
    "def calc_ptj(lista):\n",
    "    puntos = 0\n",
    "    for p in lista:\n",
    "        for juego, tupla in ganadores.items():\n",
    "            if p in tupla:\n",
    "                puntos = puntos + tupla[1]\n",
    "    return puntos\n",
    "\n",
    "def pasa_final(participante):\n",
    "    lista = []\n",
    "    for equipo, l_equipo in equipos.items():\n",
    "        puntaje = calc_ptj(l_equipo)\n",
    "        lista.append((puntaje, l_equipo))\n",
    "    lista.sort()\n",
    "    primero = lista[-1][1]\n",
    "    segundo = lista[-2][1]\n",
    "    if participante in primero or participante in segundo:\n",
    "        return True\n",
    "    else:\n",
    "        return False"
   ]
  },
  {
   "cell_type": "markdown",
   "metadata": {
    "slideshow": {
     "slide_type": "slide"
    }
   },
   "source": [
    "# Ejercicio 2\n",
    "La empresa VIRpy especializada en manejo de información y almacenamiento de artı́culos cientı́ficos, quiere automatizar el sistema para poder recuperar los documentos de los que dispone mediante un ranking. Se tiene un diccionario con documentos en forma de listas, donde la llave es el número del documento y el valor asociado a la llave una lista con las palabras que conforman el documento. A continuación se muestra un ejemplo:"
   ]
  },
  {
   "cell_type": "code",
   "execution_count": null,
   "metadata": {
    "slideshow": {
     "slide_type": "fragment"
    }
   },
   "outputs": [],
   "source": [
    "documentos= {\n",
    "1: ['las', 'computadoras', 'cuanticas', 'estan', 'listas', 'para', 'salir', 'del', 'laboratorio', 'en', '2017'], \n",
    "2: ['fracaso', 'en', 'nuevo', 'ensayo', 'sobre', 'el', 'alzheimer', 'no', 'mata', 'a', 'la', 'principal', \n",
    "    'teoria', 'sobre', 'la', 'enfermedad'],\n",
    "3: ['el', 'oceano', 'antartico', 'podria', 'dejar', 'de', 'ayudar', 'a', 'retrasar', 'el', \n",
    "    'calentamiento', 'global'], \n",
    "4: ['hackers', 'de', 'genomas', 'de', 'plantas', 'buscan', 'mejores', 'formas', 'de', 'producir', \n",
    "    'cultivos', 'a', 'la', 'medida'],\n",
    "5: ['la', 'nasa', 'evalua', 'un', 'nuevo', 'enfoque', 'para', 'la', 'exploracion', 'de', 'marte']\n",
    "}"
   ]
  },
  {
   "cell_type": "markdown",
   "metadata": {
    "slideshow": {
     "slide_type": "slide"
    }
   },
   "source": [
    "Definiremos la importancia de la palabra en el documento como el número de veces que aparece la palabra en el documento dividido por el número de palabras del documento. Considere que existe muchos más que 5 documentos.\n",
    "\n",
    "Definiremos una consulta como un conjunto de palabras que permiten recuperar uno o varios documentos relacionados con las palabras de esta (como cuando se hace una búsqueda en Google).\n",
    "\n",
    "Finalmente usted debe crear una función llamada `ingrese_consulta(consulta)` que reciba como parámetro una tupla como consulta (consulta con 2 o más palabras) y deba indicarle el documento más importante. Si no hay documento importante, debe entregar el mensaje: `No hay documento importante para esta consulta`. A continuación dos ejemplos:"
   ]
  },
  {
   "cell_type": "raw",
   "metadata": {
    "slideshow": {
     "slide_type": "slide"
    }
   },
   "source": [
    ">>> ingrese_consulta(('marte', 'nuevo'))\n",
    "Su consulta es: ('marte', 'nuevo')\n",
    "Importancia doc. 1 es 0.0\n",
    "Importancia doc. 2 es 0.0625\n",
    "Importancia doc. 3 es 0.0\n",
    "Importancia doc. 4 es 0.0\n",
    "Importancia doc. 5 es 0.181818181818\n",
    "Para este consulta el doc mas importante es 5\n",
    "\n",
    ">>> ingrese_consulta(('iglesia', 'informatica'))\n",
    "Su consulta es: ('iglesia', 'informatica')\n",
    "Importancia doc. 1 es 0.0\n",
    "Importancia doc. 2 es 0.0\n",
    "Importancia doc. 3 es 0.0\n",
    "Importancia doc. 4 es 0.0\n",
    "Importancia doc. 5 es 0.0\n",
    "No hay documento importante para esta consulta"
   ]
  },
  {
   "cell_type": "markdown",
   "metadata": {
    "slideshow": {
     "slide_type": "slide"
    }
   },
   "source": [
    "# Ejemplo solución ejercicio 2"
   ]
  },
  {
   "cell_type": "code",
   "execution_count": 7,
   "metadata": {
    "slideshow": {
     "slide_type": "fragment"
    }
   },
   "outputs": [],
   "source": [
    "def importanciaPalabra(oracion, palabra):\n",
    "    importancia  = 0.0\n",
    "    largo = len(oracion)\n",
    "    d = {}\n",
    "    for o in oracion:\n",
    "        if o not in d:\n",
    "            d[o] = 0\n",
    "        d[o]+=1\n",
    "    if palabra in d:\n",
    "        importancia = float(d[palabra])/float(largo)\n",
    "    return importancia\n",
    "\n",
    "def relevanciaConsulta(query):\n",
    "    ranking = []\n",
    "    sumaImp = 0.0\n",
    "    for k,v in documentos.items():\n",
    "        imp = 0.0\n",
    "        oracion = v          \n",
    "        for w in query:\n",
    "            imp += importanciaPalabra(oracion, w)            \n",
    "        print(\"Importancia doc\",k, \" es \", imp)\n",
    "        sumaImp+=imp\n",
    "        ranking.append((imp,k))\n",
    "    if sumaImp!=0:\n",
    "        print(\"Para este consulta el doc mas impotante es\", sorted(ranking, reverse=True)[0][1])\n",
    "    else:\n",
    "        print(\"No hay documento importante para esta query\")\n",
    "\n",
    "def ingreseConsulta(tup):\n",
    "    print (\"su consulta es\", tup)\n",
    "    relevanciaConsulta(tup)"
   ]
  },
  {
   "cell_type": "markdown",
   "metadata": {
    "slideshow": {
     "slide_type": "slide"
    }
   },
   "source": [
    "# Ejercicio 3\n",
    "Debido a que Valparaíso constantemente se ve afectado por movimientos sísmicos se le ha pedido que ayude a analizar las siguientes lecturas sísmicas que nos han llegado desde la ONEMI, en el siguiente formato:"
   ]
  },
  {
   "cell_type": "code",
   "execution_count": 8,
   "metadata": {
    "slideshow": {
     "slide_type": "fragment"
    }
   },
   "outputs": [],
   "source": [
    "lecturas_sismicas = [\n",
    "{\"richter\" : 4.4, \"distancia\" : 23, \"direccion\" : \"SO de Valparaiso\" , \n",
    " \"fecha\" : \"2017-04-24\", \"hora\" : \"23:28:53\", \"profundidad\" : 21.8},\n",
    "{\"richter\" : 4.7, \"distancia\" : 47 , \"direccion\" : \"O de Valparaiso\" , \n",
    " \"fecha\" : \"2017-04-25\", \"hora\" : \"22:21:56\", \"profundidad\" : 22.1},\n",
    "{\"richter\" : 5.1, \"distancia\" : 45, \"direccion\" : \"SO de Valparaiso\" , \n",
    " \"fecha\" : \"2017-04-27\", \"hora\" : \"21:58:30\", \"profundidad\" : 10.0},\n",
    "{\"richter\" : 6.3, \"distancia\" : 39 , \"direccion\" : \"O de Valparaiso\" , \n",
    " \"fecha\" : \"2017-04-26\", \"hora\" : \"21:38:26\", \"profundidad\" : 25.0},\n",
    "]"
   ]
  },
  {
   "cell_type": "markdown",
   "metadata": {
    "slideshow": {
     "slide_type": "slide"
    }
   },
   "source": [
    "Por otro lado, se tiene la conversión de escala Richter a Escala de Mercalli , en la siguiente lista de tuplas\n",
    "donde cada tupla tiene el formato `(escala mercalli, (valor minimo richter, valor maximo richter)`:"
   ]
  },
  {
   "cell_type": "code",
   "execution_count": 9,
   "metadata": {
    "slideshow": {
     "slide_type": "fragment"
    }
   },
   "outputs": [],
   "source": [
    "mercalli = [(\"I\",(1.0, 1.8)), (\"II\",(1.8,2.9)), (\"III\",(2.9,3.7)),  \n",
    "            (\"IV\",(3.7,4.5)), (\"V\",(4.5,5.2)), (\"VI\",(5.2,6.3))]\n"
   ]
  },
  {
   "cell_type": "markdown",
   "metadata": {
    "slideshow": {
     "slide_type": "fragment"
    }
   },
   "source": [
    "Por último, se tiene otra lista llamada `tsunami` la cual entrega la probabilidad de tsunami `(”alta”, ”media” o ”baja”)` según la distancia del sismo (se entrega rango de distancia) y el rango de grados en escala Mercalli. La lista **completa** se muestra a continuación:"
   ]
  },
  {
   "cell_type": "code",
   "execution_count": 10,
   "metadata": {
    "slideshow": {
     "slide_type": "fragment"
    }
   },
   "outputs": [],
   "source": [
    "           #(probabilidad, (distancia minima, distancia maxima), (rango de grados escala Mercalli))\n",
    "tsunami = [(\"alta\", (25, 42),(\"V\",\"VI\",\"VII\",\"VIII\",\"IX\")), \n",
    "           (\"media\", (42,54),(\"V\",\"VI\",\"VII\",\"VIII\",\"IX\")), \n",
    "           (\"media\", (25,42),(\"I\",\"II\",\"III\",\"IV\")), \n",
    "           (\"baja\", (42,54), (\"I\",\"II\",\"III\",\"IV\"))]\n"
   ]
  },
  {
   "cell_type": "markdown",
   "metadata": {
    "slideshow": {
     "slide_type": "slide"
    }
   },
   "source": [
    "Desarrolle una función en Python que reciba las estructuras de datos descritas y retorne un diccionario donde cada llave es una tupla con la fecha y hora de cada sismo y el valor de la probabilidad (”alta”, ”media” o ”baja”) de que produzca un tsunami. Si los datos de algun sismo no permiten entregar una probabilidad, entregue el mensaje: ”falta informacion”. Se entrega un ejemplo a continuación:"
   ]
  },
  {
   "cell_type": "raw",
   "metadata": {
    "slideshow": {
     "slide_type": "fragment"
    }
   },
   "source": [
    ">>> prob_tsunami(lecturas_sismicas, mercalli, tsunami)\n",
    "{('2017-04-24', '23:28:53'): 'falta informacion', \n",
    " ('2017-04-25', '22:21:56'): 'media', \n",
    " ('2017-04-27', '21:58:30'): 'media', \n",
    " ('2017-04-26', '21:38:26'): 'alta'\n",
    "}"
   ]
  },
  {
   "cell_type": "markdown",
   "metadata": {
    "slideshow": {
     "slide_type": "slide"
    }
   },
   "source": [
    "# Ejemplo solución ejercicio 3"
   ]
  },
  {
   "cell_type": "code",
   "execution_count": null,
   "metadata": {
    "slideshow": {
     "slide_type": "fragment"
    }
   },
   "outputs": [],
   "source": [
    "def buscar_tsunami(grado, distancia, tsunami):\n",
    "    for datos in tsunami:\n",
    "        prob, d, grados = datos\n",
    "        d_min, d_max = d\n",
    "        if distancia >= d_min and distancia <= d_max:\n",
    "            if grado in grados:\n",
    "                return prob\n",
    "    return 0\n",
    "        \n",
    "def prob_tsunami(lecturas_sismicas, mercalli, tsunami):\n",
    "    d = {}\n",
    "    for sismo in lecturas_sismicas:\n",
    "        richter = sismo['richter']\n",
    "        for merc in mercalli:\n",
    "            grado_merc, g = merc\n",
    "            g_min, g_max = g\n",
    "            if richter >= g_min and richter <= g_max:\n",
    "               prob = buscar_tsunami(grado_merc, sismo['distancia'], tsunami)\n",
    "               if prob == 0:\n",
    "                   d[(sismo['fecha'], sismo['hora'])] = 'falta informacion'\n",
    "               else:\n",
    "                   d[(sismo['fecha'], sismo['hora'])] = prob\n",
    "    return d"
   ]
  },
  {
   "cell_type": "markdown",
   "metadata": {
    "slideshow": {
     "slide_type": "slide"
    }
   },
   "source": [
    "# Ejercicio 4\n",
    "La nueva red social RostroLibro requiere un sistema computacional que de manera automática recomiende amigos a sus usuarios. El diccionario `usuarios` contiene la información de todos los usuarios registrados en la red. Por cada usuario se tiene la informacion de sus amigos, hobbies y musica. Una parte de este diccionario **de diccionarios** se muestra a continuación:"
   ]
  },
  {
   "cell_type": "code",
   "execution_count": 5,
   "metadata": {
    "slideshow": {
     "slide_type": "fragment"
    }
   },
   "outputs": [],
   "source": [
    "usuarios = {'Donal Trump':{'amigos':['Juan Perez','Tomb Morello','Melania Trump'],\n",
    "                           'hobbies':['videojuegos','ciclismo','running'],\n",
    "                           'musica':['Rock','Indie','Tecno']\n",
    "                           },\n",
    "            'Kin Yon Un':{'amigos':['Melania Trump','Maluma','Ricky Martin','Daddy Yanky','Annabel'],\n",
    "                           'hobbies':['videojuegos','karate','running'],\n",
    "                           'musica':['Metal','Indie','Rock']\n",
    "                           },\n",
    "            'Annabel':{'amigos':['Bruja de Bler','Marilyn Manson'],\n",
    "                           'hobbies':['Pin-pon','Ajedrez','Asustar'],\n",
    "                           'musica':['Boleros','Dark-Metal','Folck-Rock']\n",
    "                           },\n",
    "            'Bart_Simpsom':{'amigos':['Mr.Burns','Milhouse','Skiner'],\n",
    "                           'hobbies':['skey','bromas','videojuegos'],\n",
    "                           'musica':['Metal','Indie']\n",
    "                           }\n",
    "           }"
   ]
  },
  {
   "cell_type": "markdown",
   "metadata": {
    "slideshow": {
     "slide_type": "slide"
    }
   },
   "source": [
    "El puntaje de match de amistad se compone de la suma de los distintos puntajes por categoria. Cada puntaje por categorı́a se calcula como la multipicación del número de coincidencia de esa categoria, que tienen dos usuarios, y la ponderación de la categorı́a respectiva. La información correspondiente a la ponderación de cada categorı́a esta en el diccionario `ponderaciones`:"
   ]
  },
  {
   "cell_type": "code",
   "execution_count": null,
   "metadata": {
    "slideshow": {
     "slide_type": "-"
    }
   },
   "outputs": [],
   "source": [
    "ponderaciones = {'amigos':10,'hobbies':15,'musica':5}"
   ]
  },
  {
   "cell_type": "markdown",
   "metadata": {
    "slideshow": {
     "slide_type": "fragment"
    }
   },
   "source": [
    "Escriba la función `amigos(usuarios, ponderaciones)` la cual recibe como parámetro el diccionario `usuarios` y `ponderaciones`, y retorne como salida un diccionario cuyas llaves sean los usuarios y como valor contenga una lista con los nombres de los dos usuarios con mayor puntaje de match, ordeandos de mayor a menor puntaje. Si **2 o más amigos empatan en puntaje de match, elija cualquiera**. Tener en cuenta que **no puede ser recomendado como amigo un usuario que actualmente ya es amigo**. Además, considere que solo existen las 3 categorı́as mostradas, pero existen muchos más usuarios en el diccionario. Ejemplo:"
   ]
  },
  {
   "cell_type": "raw",
   "metadata": {
    "slideshow": {
     "slide_type": "fragment"
    }
   },
   "source": [
    ">> amigos(usuarios, ponderaciones)\n",
    "{'Donal Trump': ['Kin Yon Un', 'Bart_Simpsom'], 'Kin Yon Un': ['Donal Trump', 'Bart_Simpsom'], \n",
    "'Annabel': ['Kin Yon Un', 'Donal Trump'], 'Bart_Simpsom': ['Kin Yon Un', 'Donal Trump']}"
   ]
  },
  {
   "cell_type": "markdown",
   "metadata": {
    "slideshow": {
     "slide_type": "slide"
    }
   },
   "source": [
    "# Ejemplo solución ejercicio 4"
   ]
  },
  {
   "cell_type": "code",
   "execution_count": 6,
   "metadata": {
    "slideshow": {
     "slide_type": "fragment"
    }
   },
   "outputs": [],
   "source": [
    "def obtener_puntaje(lista1, lista2):\n",
    "    ptj = 0\n",
    "    for nombre1 in lista1:\n",
    "        for nombre2 in lista2:\n",
    "            if nombre1 == nombre2:\n",
    "                ptj = ptj + 1\n",
    "    return ptj\n",
    "\n",
    "def amigos(usuarios, ponderaciones):\n",
    "    d = {}\n",
    "    for us in usuarios:\n",
    "        lista = []\n",
    "        for us2 in usuarios:\n",
    "            if us != us2 and us2 not in usuarios[us]['amigos']:\n",
    "                dicc = usuarios[us]\n",
    "                dicc2 = usuarios[us2]\n",
    "                ptj_amigos = obtener_puntaje(dicc['amigos'], dicc2['amigos'])*ponderaciones['amigos']\n",
    "                ptj_hobbies = obtener_puntaje(dicc['hobbies'], dicc2['hobbies'])*ponderaciones['hobbies']\n",
    "                ptj_musica = obtener_puntaje(dicc['musica'], dicc2['musica'])*ponderaciones['musica']      \n",
    "                ptj_total = ptj_amigos + ptj_hobbies + ptj_musica\n",
    "                lista.append((ptj_total, us2))\n",
    "        lista.sort()\n",
    "        lista.reverse()\n",
    "        l_f = []\n",
    "        for i in range(2):\n",
    "            l_f.append(lista[i][1])\n",
    "        d[us] = l_f\n",
    "    return d"
   ]
  }
 ],
 "metadata": {
  "celltoolbar": "Slideshow",
  "kernelspec": {
   "display_name": "Python 3",
   "language": "python",
   "name": "python3"
  },
  "language_info": {
   "codemirror_mode": {
    "name": "ipython",
    "version": 3
   },
   "file_extension": ".py",
   "mimetype": "text/x-python",
   "name": "python",
   "nbconvert_exporter": "python",
   "pygments_lexer": "ipython3",
   "version": "3.6.0"
  }
 },
 "nbformat": 4,
 "nbformat_minor": 2
}
